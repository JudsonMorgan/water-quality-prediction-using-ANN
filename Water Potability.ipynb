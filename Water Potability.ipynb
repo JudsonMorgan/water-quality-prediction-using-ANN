{
 "cells": [
  {
   "cell_type": "markdown",
   "id": "8e066b7a",
   "metadata": {},
   "source": [
    "### Neccessary imports"
   ]
  },
  {
   "cell_type": "code",
   "execution_count": 1,
   "id": "93028b02",
   "metadata": {},
   "outputs": [],
   "source": [
    "#necessary imports\n",
    "import numpy as np\n",
    "import pandas as pd\n",
    "import matplotlib.pyplot as plt\n",
    "import seaborn as sns\n",
    "import warnings\n",
    "from sklearn.model_selection import train_test_split\n",
    "from sklearn.preprocessing import StandardScaler\n",
    "from sklearn.ensemble import RandomForestClassifier\n",
    "from sklearn.metrics import accuracy_score, confusion_matrix, classification_report, RocCurveDisplay, ConfusionMatrixDisplay\n",
    "from tensorflow.keras.models import Sequential\n",
    "from tensorflow.keras.layers import Dense\n",
    "from tensorflow.keras.layers import Dropout\n",
    "from imblearn.over_sampling import SMOTE\n",
    "from collections import Counter\n",
    "warnings.filterwarnings('ignore')\n",
    "sns.set_style('whitegrid')\n",
    "%matplotlib inline"
   ]
  },
  {
   "cell_type": "code",
   "execution_count": 2,
   "id": "e94ae6cb",
   "metadata": {},
   "outputs": [
    {
     "data": {
      "text/html": [
       "<div>\n",
       "<style scoped>\n",
       "    .dataframe tbody tr th:only-of-type {\n",
       "        vertical-align: middle;\n",
       "    }\n",
       "\n",
       "    .dataframe tbody tr th {\n",
       "        vertical-align: top;\n",
       "    }\n",
       "\n",
       "    .dataframe thead th {\n",
       "        text-align: right;\n",
       "    }\n",
       "</style>\n",
       "<table border=\"1\" class=\"dataframe\">\n",
       "  <thead>\n",
       "    <tr style=\"text-align: right;\">\n",
       "      <th></th>\n",
       "      <th>ph</th>\n",
       "      <th>Hardness</th>\n",
       "      <th>Solids</th>\n",
       "      <th>Chloramines</th>\n",
       "      <th>Sulfate</th>\n",
       "      <th>Conductivity</th>\n",
       "      <th>Organic_carbon</th>\n",
       "      <th>Trihalomethanes</th>\n",
       "      <th>Turbidity</th>\n",
       "      <th>Potability</th>\n",
       "    </tr>\n",
       "  </thead>\n",
       "  <tbody>\n",
       "    <tr>\n",
       "      <th>0</th>\n",
       "      <td>NaN</td>\n",
       "      <td>204.890455</td>\n",
       "      <td>20791.318981</td>\n",
       "      <td>7.300212</td>\n",
       "      <td>368.516441</td>\n",
       "      <td>564.308654</td>\n",
       "      <td>10.379783</td>\n",
       "      <td>86.990970</td>\n",
       "      <td>2.963135</td>\n",
       "      <td>0</td>\n",
       "    </tr>\n",
       "    <tr>\n",
       "      <th>1</th>\n",
       "      <td>3.716080</td>\n",
       "      <td>129.422921</td>\n",
       "      <td>18630.057858</td>\n",
       "      <td>6.635246</td>\n",
       "      <td>NaN</td>\n",
       "      <td>592.885359</td>\n",
       "      <td>15.180013</td>\n",
       "      <td>56.329076</td>\n",
       "      <td>4.500656</td>\n",
       "      <td>0</td>\n",
       "    </tr>\n",
       "    <tr>\n",
       "      <th>2</th>\n",
       "      <td>8.099124</td>\n",
       "      <td>224.236259</td>\n",
       "      <td>19909.541732</td>\n",
       "      <td>9.275884</td>\n",
       "      <td>NaN</td>\n",
       "      <td>418.606213</td>\n",
       "      <td>16.868637</td>\n",
       "      <td>66.420093</td>\n",
       "      <td>3.055934</td>\n",
       "      <td>0</td>\n",
       "    </tr>\n",
       "    <tr>\n",
       "      <th>3</th>\n",
       "      <td>8.316766</td>\n",
       "      <td>214.373394</td>\n",
       "      <td>22018.417441</td>\n",
       "      <td>8.059332</td>\n",
       "      <td>356.886136</td>\n",
       "      <td>363.266516</td>\n",
       "      <td>18.436524</td>\n",
       "      <td>100.341674</td>\n",
       "      <td>4.628771</td>\n",
       "      <td>0</td>\n",
       "    </tr>\n",
       "    <tr>\n",
       "      <th>4</th>\n",
       "      <td>9.092223</td>\n",
       "      <td>181.101509</td>\n",
       "      <td>17978.986339</td>\n",
       "      <td>6.546600</td>\n",
       "      <td>310.135738</td>\n",
       "      <td>398.410813</td>\n",
       "      <td>11.558279</td>\n",
       "      <td>31.997993</td>\n",
       "      <td>4.075075</td>\n",
       "      <td>0</td>\n",
       "    </tr>\n",
       "  </tbody>\n",
       "</table>\n",
       "</div>"
      ],
      "text/plain": [
       "         ph    Hardness        Solids  Chloramines     Sulfate  Conductivity  \\\n",
       "0       NaN  204.890455  20791.318981     7.300212  368.516441    564.308654   \n",
       "1  3.716080  129.422921  18630.057858     6.635246         NaN    592.885359   \n",
       "2  8.099124  224.236259  19909.541732     9.275884         NaN    418.606213   \n",
       "3  8.316766  214.373394  22018.417441     8.059332  356.886136    363.266516   \n",
       "4  9.092223  181.101509  17978.986339     6.546600  310.135738    398.410813   \n",
       "\n",
       "   Organic_carbon  Trihalomethanes  Turbidity  Potability  \n",
       "0       10.379783        86.990970   2.963135           0  \n",
       "1       15.180013        56.329076   4.500656           0  \n",
       "2       16.868637        66.420093   3.055934           0  \n",
       "3       18.436524       100.341674   4.628771           0  \n",
       "4       11.558279        31.997993   4.075075           0  "
      ]
     },
     "execution_count": 2,
     "metadata": {},
     "output_type": "execute_result"
    }
   ],
   "source": [
    "#import the data\n",
    "df = pd.read_csv('data/water_potability.csv')\n",
    "#view the first first rows of the data\n",
    "df.head()"
   ]
  },
  {
   "cell_type": "markdown",
   "id": "f90155d0",
   "metadata": {},
   "source": [
    "### Exploratory Data Analysis"
   ]
  },
  {
   "cell_type": "code",
   "execution_count": 3,
   "id": "7eef6e91",
   "metadata": {},
   "outputs": [
    {
     "data": {
      "text/plain": [
       "(3276, 10)"
      ]
     },
     "execution_count": 3,
     "metadata": {},
     "output_type": "execute_result"
    }
   ],
   "source": [
    "#check the rows and columns of the data\n",
    "df.shape"
   ]
  },
  {
   "cell_type": "code",
   "execution_count": 4,
   "id": "a5445cb6",
   "metadata": {},
   "outputs": [],
   "source": [
    "#deep copy of the original dataframe\n",
    "df_temp = df.copy()"
   ]
  },
  {
   "cell_type": "code",
   "execution_count": 5,
   "id": "2b925b8b",
   "metadata": {},
   "outputs": [
    {
     "name": "stdout",
     "output_type": "stream",
     "text": [
      "<class 'pandas.core.frame.DataFrame'>\n",
      "RangeIndex: 3276 entries, 0 to 3275\n",
      "Data columns (total 10 columns):\n",
      " #   Column           Non-Null Count  Dtype  \n",
      "---  ------           --------------  -----  \n",
      " 0   ph               2785 non-null   float64\n",
      " 1   Hardness         3276 non-null   float64\n",
      " 2   Solids           3276 non-null   float64\n",
      " 3   Chloramines      3276 non-null   float64\n",
      " 4   Sulfate          2495 non-null   float64\n",
      " 5   Conductivity     3276 non-null   float64\n",
      " 6   Organic_carbon   3276 non-null   float64\n",
      " 7   Trihalomethanes  3114 non-null   float64\n",
      " 8   Turbidity        3276 non-null   float64\n",
      " 9   Potability       3276 non-null   int64  \n",
      "dtypes: float64(9), int64(1)\n",
      "memory usage: 256.1 KB\n"
     ]
    }
   ],
   "source": [
    "#check the information about the data features\n",
    "df_temp.info()"
   ]
  },
  {
   "cell_type": "code",
   "execution_count": 6,
   "id": "e5d25709",
   "metadata": {},
   "outputs": [
    {
     "data": {
      "text/html": [
       "<div>\n",
       "<style scoped>\n",
       "    .dataframe tbody tr th:only-of-type {\n",
       "        vertical-align: middle;\n",
       "    }\n",
       "\n",
       "    .dataframe tbody tr th {\n",
       "        vertical-align: top;\n",
       "    }\n",
       "\n",
       "    .dataframe thead th {\n",
       "        text-align: right;\n",
       "    }\n",
       "</style>\n",
       "<table border=\"1\" class=\"dataframe\">\n",
       "  <thead>\n",
       "    <tr style=\"text-align: right;\">\n",
       "      <th></th>\n",
       "      <th>ph</th>\n",
       "      <th>Hardness</th>\n",
       "      <th>Solids</th>\n",
       "      <th>Chloramines</th>\n",
       "      <th>Sulfate</th>\n",
       "      <th>Conductivity</th>\n",
       "      <th>Organic_carbon</th>\n",
       "      <th>Trihalomethanes</th>\n",
       "      <th>Turbidity</th>\n",
       "      <th>Potability</th>\n",
       "    </tr>\n",
       "  </thead>\n",
       "  <tbody>\n",
       "    <tr>\n",
       "      <th>count</th>\n",
       "      <td>2785.000000</td>\n",
       "      <td>3276.000000</td>\n",
       "      <td>3276.000000</td>\n",
       "      <td>3276.000000</td>\n",
       "      <td>2495.000000</td>\n",
       "      <td>3276.000000</td>\n",
       "      <td>3276.000000</td>\n",
       "      <td>3114.000000</td>\n",
       "      <td>3276.000000</td>\n",
       "      <td>3276.000000</td>\n",
       "    </tr>\n",
       "    <tr>\n",
       "      <th>mean</th>\n",
       "      <td>7.080795</td>\n",
       "      <td>196.369496</td>\n",
       "      <td>22014.092526</td>\n",
       "      <td>7.122277</td>\n",
       "      <td>333.775777</td>\n",
       "      <td>426.205111</td>\n",
       "      <td>14.284970</td>\n",
       "      <td>66.396293</td>\n",
       "      <td>3.966786</td>\n",
       "      <td>0.390110</td>\n",
       "    </tr>\n",
       "    <tr>\n",
       "      <th>std</th>\n",
       "      <td>1.594320</td>\n",
       "      <td>32.879761</td>\n",
       "      <td>8768.570828</td>\n",
       "      <td>1.583085</td>\n",
       "      <td>41.416840</td>\n",
       "      <td>80.824064</td>\n",
       "      <td>3.308162</td>\n",
       "      <td>16.175008</td>\n",
       "      <td>0.780382</td>\n",
       "      <td>0.487849</td>\n",
       "    </tr>\n",
       "    <tr>\n",
       "      <th>min</th>\n",
       "      <td>0.000000</td>\n",
       "      <td>47.432000</td>\n",
       "      <td>320.942611</td>\n",
       "      <td>0.352000</td>\n",
       "      <td>129.000000</td>\n",
       "      <td>181.483754</td>\n",
       "      <td>2.200000</td>\n",
       "      <td>0.738000</td>\n",
       "      <td>1.450000</td>\n",
       "      <td>0.000000</td>\n",
       "    </tr>\n",
       "    <tr>\n",
       "      <th>25%</th>\n",
       "      <td>6.093092</td>\n",
       "      <td>176.850538</td>\n",
       "      <td>15666.690297</td>\n",
       "      <td>6.127421</td>\n",
       "      <td>307.699498</td>\n",
       "      <td>365.734414</td>\n",
       "      <td>12.065801</td>\n",
       "      <td>55.844536</td>\n",
       "      <td>3.439711</td>\n",
       "      <td>0.000000</td>\n",
       "    </tr>\n",
       "    <tr>\n",
       "      <th>50%</th>\n",
       "      <td>7.036752</td>\n",
       "      <td>196.967627</td>\n",
       "      <td>20927.833607</td>\n",
       "      <td>7.130299</td>\n",
       "      <td>333.073546</td>\n",
       "      <td>421.884968</td>\n",
       "      <td>14.218338</td>\n",
       "      <td>66.622485</td>\n",
       "      <td>3.955028</td>\n",
       "      <td>0.000000</td>\n",
       "    </tr>\n",
       "    <tr>\n",
       "      <th>75%</th>\n",
       "      <td>8.062066</td>\n",
       "      <td>216.667456</td>\n",
       "      <td>27332.762127</td>\n",
       "      <td>8.114887</td>\n",
       "      <td>359.950170</td>\n",
       "      <td>481.792304</td>\n",
       "      <td>16.557652</td>\n",
       "      <td>77.337473</td>\n",
       "      <td>4.500320</td>\n",
       "      <td>1.000000</td>\n",
       "    </tr>\n",
       "    <tr>\n",
       "      <th>max</th>\n",
       "      <td>14.000000</td>\n",
       "      <td>323.124000</td>\n",
       "      <td>61227.196008</td>\n",
       "      <td>13.127000</td>\n",
       "      <td>481.030642</td>\n",
       "      <td>753.342620</td>\n",
       "      <td>28.300000</td>\n",
       "      <td>124.000000</td>\n",
       "      <td>6.739000</td>\n",
       "      <td>1.000000</td>\n",
       "    </tr>\n",
       "  </tbody>\n",
       "</table>\n",
       "</div>"
      ],
      "text/plain": [
       "                ph     Hardness        Solids  Chloramines      Sulfate  \\\n",
       "count  2785.000000  3276.000000   3276.000000  3276.000000  2495.000000   \n",
       "mean      7.080795   196.369496  22014.092526     7.122277   333.775777   \n",
       "std       1.594320    32.879761   8768.570828     1.583085    41.416840   \n",
       "min       0.000000    47.432000    320.942611     0.352000   129.000000   \n",
       "25%       6.093092   176.850538  15666.690297     6.127421   307.699498   \n",
       "50%       7.036752   196.967627  20927.833607     7.130299   333.073546   \n",
       "75%       8.062066   216.667456  27332.762127     8.114887   359.950170   \n",
       "max      14.000000   323.124000  61227.196008    13.127000   481.030642   \n",
       "\n",
       "       Conductivity  Organic_carbon  Trihalomethanes    Turbidity   Potability  \n",
       "count   3276.000000     3276.000000      3114.000000  3276.000000  3276.000000  \n",
       "mean     426.205111       14.284970        66.396293     3.966786     0.390110  \n",
       "std       80.824064        3.308162        16.175008     0.780382     0.487849  \n",
       "min      181.483754        2.200000         0.738000     1.450000     0.000000  \n",
       "25%      365.734414       12.065801        55.844536     3.439711     0.000000  \n",
       "50%      421.884968       14.218338        66.622485     3.955028     0.000000  \n",
       "75%      481.792304       16.557652        77.337473     4.500320     1.000000  \n",
       "max      753.342620       28.300000       124.000000     6.739000     1.000000  "
      ]
     },
     "execution_count": 6,
     "metadata": {},
     "output_type": "execute_result"
    }
   ],
   "source": [
    "#check the statistical view of the data, in order to detect outliers\n",
    "df_temp.describe()"
   ]
  },
  {
   "cell_type": "code",
   "execution_count": 7,
   "id": "3cff27cf",
   "metadata": {},
   "outputs": [
    {
     "data": {
      "text/html": [
       "<div>\n",
       "<style scoped>\n",
       "    .dataframe tbody tr th:only-of-type {\n",
       "        vertical-align: middle;\n",
       "    }\n",
       "\n",
       "    .dataframe tbody tr th {\n",
       "        vertical-align: top;\n",
       "    }\n",
       "\n",
       "    .dataframe thead th {\n",
       "        text-align: right;\n",
       "    }\n",
       "</style>\n",
       "<table border=\"1\" class=\"dataframe\">\n",
       "  <thead>\n",
       "    <tr style=\"text-align: right;\">\n",
       "      <th></th>\n",
       "      <th>ph</th>\n",
       "      <th>Hardness</th>\n",
       "      <th>Solids</th>\n",
       "      <th>Chloramines</th>\n",
       "      <th>Sulfate</th>\n",
       "      <th>Conductivity</th>\n",
       "      <th>Organic_carbon</th>\n",
       "      <th>Trihalomethanes</th>\n",
       "      <th>Turbidity</th>\n",
       "      <th>Potability</th>\n",
       "    </tr>\n",
       "  </thead>\n",
       "  <tbody>\n",
       "    <tr>\n",
       "      <th>ph</th>\n",
       "      <td>1.000000</td>\n",
       "      <td>0.082096</td>\n",
       "      <td>-0.089288</td>\n",
       "      <td>-0.034350</td>\n",
       "      <td>0.018203</td>\n",
       "      <td>0.018614</td>\n",
       "      <td>0.043503</td>\n",
       "      <td>0.003354</td>\n",
       "      <td>-0.039057</td>\n",
       "      <td>-0.003556</td>\n",
       "    </tr>\n",
       "    <tr>\n",
       "      <th>Hardness</th>\n",
       "      <td>0.082096</td>\n",
       "      <td>1.000000</td>\n",
       "      <td>-0.046899</td>\n",
       "      <td>-0.030054</td>\n",
       "      <td>-0.106923</td>\n",
       "      <td>-0.023915</td>\n",
       "      <td>0.003610</td>\n",
       "      <td>-0.013013</td>\n",
       "      <td>-0.014449</td>\n",
       "      <td>-0.013837</td>\n",
       "    </tr>\n",
       "    <tr>\n",
       "      <th>Solids</th>\n",
       "      <td>-0.089288</td>\n",
       "      <td>-0.046899</td>\n",
       "      <td>1.000000</td>\n",
       "      <td>-0.070148</td>\n",
       "      <td>-0.171804</td>\n",
       "      <td>0.013831</td>\n",
       "      <td>0.010242</td>\n",
       "      <td>-0.009143</td>\n",
       "      <td>0.019546</td>\n",
       "      <td>0.033743</td>\n",
       "    </tr>\n",
       "    <tr>\n",
       "      <th>Chloramines</th>\n",
       "      <td>-0.034350</td>\n",
       "      <td>-0.030054</td>\n",
       "      <td>-0.070148</td>\n",
       "      <td>1.000000</td>\n",
       "      <td>0.027244</td>\n",
       "      <td>-0.020486</td>\n",
       "      <td>-0.012653</td>\n",
       "      <td>0.017084</td>\n",
       "      <td>0.002363</td>\n",
       "      <td>0.023779</td>\n",
       "    </tr>\n",
       "    <tr>\n",
       "      <th>Sulfate</th>\n",
       "      <td>0.018203</td>\n",
       "      <td>-0.106923</td>\n",
       "      <td>-0.171804</td>\n",
       "      <td>0.027244</td>\n",
       "      <td>1.000000</td>\n",
       "      <td>-0.016121</td>\n",
       "      <td>0.030831</td>\n",
       "      <td>-0.030274</td>\n",
       "      <td>-0.011187</td>\n",
       "      <td>-0.023577</td>\n",
       "    </tr>\n",
       "    <tr>\n",
       "      <th>Conductivity</th>\n",
       "      <td>0.018614</td>\n",
       "      <td>-0.023915</td>\n",
       "      <td>0.013831</td>\n",
       "      <td>-0.020486</td>\n",
       "      <td>-0.016121</td>\n",
       "      <td>1.000000</td>\n",
       "      <td>0.020966</td>\n",
       "      <td>0.001285</td>\n",
       "      <td>0.005798</td>\n",
       "      <td>-0.008128</td>\n",
       "    </tr>\n",
       "    <tr>\n",
       "      <th>Organic_carbon</th>\n",
       "      <td>0.043503</td>\n",
       "      <td>0.003610</td>\n",
       "      <td>0.010242</td>\n",
       "      <td>-0.012653</td>\n",
       "      <td>0.030831</td>\n",
       "      <td>0.020966</td>\n",
       "      <td>1.000000</td>\n",
       "      <td>-0.013274</td>\n",
       "      <td>-0.027308</td>\n",
       "      <td>-0.030001</td>\n",
       "    </tr>\n",
       "    <tr>\n",
       "      <th>Trihalomethanes</th>\n",
       "      <td>0.003354</td>\n",
       "      <td>-0.013013</td>\n",
       "      <td>-0.009143</td>\n",
       "      <td>0.017084</td>\n",
       "      <td>-0.030274</td>\n",
       "      <td>0.001285</td>\n",
       "      <td>-0.013274</td>\n",
       "      <td>1.000000</td>\n",
       "      <td>-0.022145</td>\n",
       "      <td>0.007130</td>\n",
       "    </tr>\n",
       "    <tr>\n",
       "      <th>Turbidity</th>\n",
       "      <td>-0.039057</td>\n",
       "      <td>-0.014449</td>\n",
       "      <td>0.019546</td>\n",
       "      <td>0.002363</td>\n",
       "      <td>-0.011187</td>\n",
       "      <td>0.005798</td>\n",
       "      <td>-0.027308</td>\n",
       "      <td>-0.022145</td>\n",
       "      <td>1.000000</td>\n",
       "      <td>0.001581</td>\n",
       "    </tr>\n",
       "    <tr>\n",
       "      <th>Potability</th>\n",
       "      <td>-0.003556</td>\n",
       "      <td>-0.013837</td>\n",
       "      <td>0.033743</td>\n",
       "      <td>0.023779</td>\n",
       "      <td>-0.023577</td>\n",
       "      <td>-0.008128</td>\n",
       "      <td>-0.030001</td>\n",
       "      <td>0.007130</td>\n",
       "      <td>0.001581</td>\n",
       "      <td>1.000000</td>\n",
       "    </tr>\n",
       "  </tbody>\n",
       "</table>\n",
       "</div>"
      ],
      "text/plain": [
       "                       ph  Hardness    Solids  Chloramines   Sulfate  \\\n",
       "ph               1.000000  0.082096 -0.089288    -0.034350  0.018203   \n",
       "Hardness         0.082096  1.000000 -0.046899    -0.030054 -0.106923   \n",
       "Solids          -0.089288 -0.046899  1.000000    -0.070148 -0.171804   \n",
       "Chloramines     -0.034350 -0.030054 -0.070148     1.000000  0.027244   \n",
       "Sulfate          0.018203 -0.106923 -0.171804     0.027244  1.000000   \n",
       "Conductivity     0.018614 -0.023915  0.013831    -0.020486 -0.016121   \n",
       "Organic_carbon   0.043503  0.003610  0.010242    -0.012653  0.030831   \n",
       "Trihalomethanes  0.003354 -0.013013 -0.009143     0.017084 -0.030274   \n",
       "Turbidity       -0.039057 -0.014449  0.019546     0.002363 -0.011187   \n",
       "Potability      -0.003556 -0.013837  0.033743     0.023779 -0.023577   \n",
       "\n",
       "                 Conductivity  Organic_carbon  Trihalomethanes  Turbidity  \\\n",
       "ph                   0.018614        0.043503         0.003354  -0.039057   \n",
       "Hardness            -0.023915        0.003610        -0.013013  -0.014449   \n",
       "Solids               0.013831        0.010242        -0.009143   0.019546   \n",
       "Chloramines         -0.020486       -0.012653         0.017084   0.002363   \n",
       "Sulfate             -0.016121        0.030831        -0.030274  -0.011187   \n",
       "Conductivity         1.000000        0.020966         0.001285   0.005798   \n",
       "Organic_carbon       0.020966        1.000000        -0.013274  -0.027308   \n",
       "Trihalomethanes      0.001285       -0.013274         1.000000  -0.022145   \n",
       "Turbidity            0.005798       -0.027308        -0.022145   1.000000   \n",
       "Potability          -0.008128       -0.030001         0.007130   0.001581   \n",
       "\n",
       "                 Potability  \n",
       "ph                -0.003556  \n",
       "Hardness          -0.013837  \n",
       "Solids             0.033743  \n",
       "Chloramines        0.023779  \n",
       "Sulfate           -0.023577  \n",
       "Conductivity      -0.008128  \n",
       "Organic_carbon    -0.030001  \n",
       "Trihalomethanes    0.007130  \n",
       "Turbidity          0.001581  \n",
       "Potability         1.000000  "
      ]
     },
     "execution_count": 7,
     "metadata": {},
     "output_type": "execute_result"
    }
   ],
   "source": [
    "#correlation among the features\n",
    "corr = df_temp.corr()\n",
    "\n",
    "#view the corr\n",
    "corr"
   ]
  },
  {
   "cell_type": "code",
   "execution_count": 8,
   "id": "f971c96b",
   "metadata": {},
   "outputs": [
    {
     "data": {
      "image/png": "[encoded data removed]",
      "text/plain": [
       "<Figure size 720x576 with 2 Axes>"
      ]
     },
     "metadata": {
      "needs_background": "light"
     },
     "output_type": "display_data"
    }
   ],
   "source": [
    "#better visualization with a heatmap\n",
    "plt.figure(figsize=(10,8))\n",
    "sns.heatmap(corr,\n",
    "           annot=True,\n",
    "           fmt='.2g',\n",
    "           cmap='YlGnBu')\n",
    "plt.show()"
   ]
  },
  {
   "cell_type": "code",
   "execution_count": 9,
   "id": "abfc9897",
   "metadata": {},
   "outputs": [
    {
     "data": {
      "text/plain": [
       "0    0.60989\n",
       "1    0.39011\n",
       "Name: Potability, dtype: float64"
      ]
     },
     "execution_count": 9,
     "metadata": {},
     "output_type": "execute_result"
    }
   ],
   "source": [
    "#percentage of the target labels\n",
    "df_temp['Potability'].value_counts(normalize=True)"
   ]
  },
  {
   "cell_type": "code",
   "execution_count": 10,
   "id": "7cd96b33",
   "metadata": {},
   "outputs": [
    {
     "data": {
      "text/plain": [
       "array([0, 1], dtype=int64)"
      ]
     },
     "execution_count": 10,
     "metadata": {},
     "output_type": "execute_result"
    }
   ],
   "source": [
    "#check the unique entries of the target variable\n",
    "df_temp.Potability.unique()"
   ]
  },
  {
   "cell_type": "code",
   "execution_count": 11,
   "id": "2a5540f3",
   "metadata": {},
   "outputs": [
    {
     "data": {
      "image/png": "[encoded data removed]",
      "text/plain": [
       "<Figure size 720x576 with 1 Axes>"
      ]
     },
     "metadata": {
      "needs_background": "light"
     },
     "output_type": "display_data"
    }
   ],
   "source": [
    "#bar chart showing the distribution of counts of potable water to not potable water\n",
    "df_temp['Potability'].value_counts().plot(kind='bar', color=['lightblue', 'salmon'], figsize=(10,8))\n",
    "plt.xticks(rotation=0)\n",
    "plt.show()"
   ]
  },
  {
   "cell_type": "code",
   "execution_count": 12,
   "id": "7998a8fe",
   "metadata": {},
   "outputs": [
    {
     "data": {
      "text/plain": [
       "ph                 491\n",
       "Hardness             0\n",
       "Solids               0\n",
       "Chloramines          0\n",
       "Sulfate            781\n",
       "Conductivity         0\n",
       "Organic_carbon       0\n",
       "Trihalomethanes    162\n",
       "Turbidity            0\n",
       "Potability           0\n",
       "dtype: int64"
      ]
     },
     "execution_count": 12,
     "metadata": {},
     "output_type": "execute_result"
    }
   ],
   "source": [
    "#check for missing values\n",
    "df_temp.isna().sum()"
   ]
  },
  {
   "cell_type": "markdown",
   "id": "1c6b7dd5",
   "metadata": {},
   "source": [
    "## Data Pre-processing"
   ]
  },
  {
   "cell_type": "code",
   "execution_count": 13,
   "id": "22901798",
   "metadata": {},
   "outputs": [],
   "source": [
    "#fill in the missing values using the median for each features\n",
    "df_temp['ph'].fillna(df_temp['ph'].median(), inplace=True)\n",
    "df_temp['Sulfate'].fillna(df_temp['Sulfate'].median(), inplace=True)\n",
    "df_temp['Trihalomethanes'].fillna(df_temp['Trihalomethanes'].median(), inplace=True)"
   ]
  },
  {
   "cell_type": "code",
   "execution_count": 14,
   "id": "1df17233",
   "metadata": {},
   "outputs": [
    {
     "data": {
      "text/plain": [
       "ph                 0\n",
       "Hardness           0\n",
       "Solids             0\n",
       "Chloramines        0\n",
       "Sulfate            0\n",
       "Conductivity       0\n",
       "Organic_carbon     0\n",
       "Trihalomethanes    0\n",
       "Turbidity          0\n",
       "Potability         0\n",
       "dtype: int64"
      ]
     },
     "execution_count": 14,
     "metadata": {},
     "output_type": "execute_result"
    }
   ],
   "source": [
    "df_temp.isna().sum()"
   ]
  },
  {
   "cell_type": "markdown",
   "id": "7587be7d",
   "metadata": {},
   "source": [
    "From the exploratory data analysis above, we can say that the dataset is normally distributed dataset across all features, also there are no categorical features, and the missing features has been filled. Now, we can proceed to model building."
   ]
  },
  {
   "cell_type": "code",
   "execution_count": 15,
   "id": "39672655",
   "metadata": {},
   "outputs": [
    {
     "data": {
      "text/html": [
       "<div>\n",
       "<style scoped>\n",
       "    .dataframe tbody tr th:only-of-type {\n",
       "        vertical-align: middle;\n",
       "    }\n",
       "\n",
       "    .dataframe tbody tr th {\n",
       "        vertical-align: top;\n",
       "    }\n",
       "\n",
       "    .dataframe thead th {\n",
       "        text-align: right;\n",
       "    }\n",
       "</style>\n",
       "<table border=\"1\" class=\"dataframe\">\n",
       "  <thead>\n",
       "    <tr style=\"text-align: right;\">\n",
       "      <th></th>\n",
       "      <th>ph</th>\n",
       "      <th>Hardness</th>\n",
       "      <th>Solids</th>\n",
       "      <th>Chloramines</th>\n",
       "      <th>Sulfate</th>\n",
       "      <th>Conductivity</th>\n",
       "      <th>Organic_carbon</th>\n",
       "      <th>Trihalomethanes</th>\n",
       "      <th>Turbidity</th>\n",
       "      <th>Potability</th>\n",
       "    </tr>\n",
       "  </thead>\n",
       "  <tbody>\n",
       "    <tr>\n",
       "      <th>0</th>\n",
       "      <td>7.036752</td>\n",
       "      <td>204.890455</td>\n",
       "      <td>20791.318981</td>\n",
       "      <td>7.300212</td>\n",
       "      <td>368.516441</td>\n",
       "      <td>564.308654</td>\n",
       "      <td>10.379783</td>\n",
       "      <td>86.990970</td>\n",
       "      <td>2.963135</td>\n",
       "      <td>0</td>\n",
       "    </tr>\n",
       "    <tr>\n",
       "      <th>1</th>\n",
       "      <td>3.716080</td>\n",
       "      <td>129.422921</td>\n",
       "      <td>18630.057858</td>\n",
       "      <td>6.635246</td>\n",
       "      <td>333.073546</td>\n",
       "      <td>592.885359</td>\n",
       "      <td>15.180013</td>\n",
       "      <td>56.329076</td>\n",
       "      <td>4.500656</td>\n",
       "      <td>0</td>\n",
       "    </tr>\n",
       "    <tr>\n",
       "      <th>2</th>\n",
       "      <td>8.099124</td>\n",
       "      <td>224.236259</td>\n",
       "      <td>19909.541732</td>\n",
       "      <td>9.275884</td>\n",
       "      <td>333.073546</td>\n",
       "      <td>418.606213</td>\n",
       "      <td>16.868637</td>\n",
       "      <td>66.420093</td>\n",
       "      <td>3.055934</td>\n",
       "      <td>0</td>\n",
       "    </tr>\n",
       "    <tr>\n",
       "      <th>3</th>\n",
       "      <td>8.316766</td>\n",
       "      <td>214.373394</td>\n",
       "      <td>22018.417441</td>\n",
       "      <td>8.059332</td>\n",
       "      <td>356.886136</td>\n",
       "      <td>363.266516</td>\n",
       "      <td>18.436524</td>\n",
       "      <td>100.341674</td>\n",
       "      <td>4.628771</td>\n",
       "      <td>0</td>\n",
       "    </tr>\n",
       "    <tr>\n",
       "      <th>4</th>\n",
       "      <td>9.092223</td>\n",
       "      <td>181.101509</td>\n",
       "      <td>17978.986339</td>\n",
       "      <td>6.546600</td>\n",
       "      <td>310.135738</td>\n",
       "      <td>398.410813</td>\n",
       "      <td>11.558279</td>\n",
       "      <td>31.997993</td>\n",
       "      <td>4.075075</td>\n",
       "      <td>0</td>\n",
       "    </tr>\n",
       "  </tbody>\n",
       "</table>\n",
       "</div>"
      ],
      "text/plain": [
       "         ph    Hardness        Solids  Chloramines     Sulfate  Conductivity  \\\n",
       "0  7.036752  204.890455  20791.318981     7.300212  368.516441    564.308654   \n",
       "1  3.716080  129.422921  18630.057858     6.635246  333.073546    592.885359   \n",
       "2  8.099124  224.236259  19909.541732     9.275884  333.073546    418.606213   \n",
       "3  8.316766  214.373394  22018.417441     8.059332  356.886136    363.266516   \n",
       "4  9.092223  181.101509  17978.986339     6.546600  310.135738    398.410813   \n",
       "\n",
       "   Organic_carbon  Trihalomethanes  Turbidity  Potability  \n",
       "0       10.379783        86.990970   2.963135           0  \n",
       "1       15.180013        56.329076   4.500656           0  \n",
       "2       16.868637        66.420093   3.055934           0  \n",
       "3       18.436524       100.341674   4.628771           0  \n",
       "4       11.558279        31.997993   4.075075           0  "
      ]
     },
     "execution_count": 15,
     "metadata": {},
     "output_type": "execute_result"
    }
   ],
   "source": [
    "#view the data \n",
    "df_temp.head()"
   ]
  },
  {
   "cell_type": "code",
   "execution_count": 16,
   "id": "532afc97",
   "metadata": {},
   "outputs": [
    {
     "data": {
      "text/plain": [
       "0    1998\n",
       "1    1278\n",
       "Name: Potability, dtype: int64"
      ]
     },
     "execution_count": 16,
     "metadata": {},
     "output_type": "execute_result"
    }
   ],
   "source": [
    "#view the target distribution\n",
    "df_temp['Potability'].value_counts()"
   ]
  },
  {
   "cell_type": "markdown",
   "id": "29a27204",
   "metadata": {},
   "source": [
    "From the above visualization, we can see an imbalanced distribution of the dataset which can in turn cause bias in our machine learning model. Let's use SMOTE techniques to make it a balanced dataset"
   ]
  },
  {
   "cell_type": "code",
   "execution_count": 17,
   "id": "b30e2636",
   "metadata": {},
   "outputs": [],
   "source": [
    "#split the dataset into features and labels\n",
    "X = df_temp.iloc[:, :-1]\n",
    "y = df_temp.iloc[:,-1]"
   ]
  },
  {
   "cell_type": "code",
   "execution_count": 18,
   "id": "0fa45cc7",
   "metadata": {},
   "outputs": [
    {
     "data": {
      "text/html": [
       "<div>\n",
       "<style scoped>\n",
       "    .dataframe tbody tr th:only-of-type {\n",
       "        vertical-align: middle;\n",
       "    }\n",
       "\n",
       "    .dataframe tbody tr th {\n",
       "        vertical-align: top;\n",
       "    }\n",
       "\n",
       "    .dataframe thead th {\n",
       "        text-align: right;\n",
       "    }\n",
       "</style>\n",
       "<table border=\"1\" class=\"dataframe\">\n",
       "  <thead>\n",
       "    <tr style=\"text-align: right;\">\n",
       "      <th></th>\n",
       "      <th>ph</th>\n",
       "      <th>Hardness</th>\n",
       "      <th>Solids</th>\n",
       "      <th>Chloramines</th>\n",
       "      <th>Sulfate</th>\n",
       "      <th>Conductivity</th>\n",
       "      <th>Organic_carbon</th>\n",
       "      <th>Trihalomethanes</th>\n",
       "      <th>Turbidity</th>\n",
       "    </tr>\n",
       "  </thead>\n",
       "  <tbody>\n",
       "    <tr>\n",
       "      <th>0</th>\n",
       "      <td>7.036752</td>\n",
       "      <td>204.890455</td>\n",
       "      <td>20791.318981</td>\n",
       "      <td>7.300212</td>\n",
       "      <td>368.516441</td>\n",
       "      <td>564.308654</td>\n",
       "      <td>10.379783</td>\n",
       "      <td>86.990970</td>\n",
       "      <td>2.963135</td>\n",
       "    </tr>\n",
       "    <tr>\n",
       "      <th>1</th>\n",
       "      <td>3.716080</td>\n",
       "      <td>129.422921</td>\n",
       "      <td>18630.057858</td>\n",
       "      <td>6.635246</td>\n",
       "      <td>333.073546</td>\n",
       "      <td>592.885359</td>\n",
       "      <td>15.180013</td>\n",
       "      <td>56.329076</td>\n",
       "      <td>4.500656</td>\n",
       "    </tr>\n",
       "    <tr>\n",
       "      <th>2</th>\n",
       "      <td>8.099124</td>\n",
       "      <td>224.236259</td>\n",
       "      <td>19909.541732</td>\n",
       "      <td>9.275884</td>\n",
       "      <td>333.073546</td>\n",
       "      <td>418.606213</td>\n",
       "      <td>16.868637</td>\n",
       "      <td>66.420093</td>\n",
       "      <td>3.055934</td>\n",
       "    </tr>\n",
       "    <tr>\n",
       "      <th>3</th>\n",
       "      <td>8.316766</td>\n",
       "      <td>214.373394</td>\n",
       "      <td>22018.417441</td>\n",
       "      <td>8.059332</td>\n",
       "      <td>356.886136</td>\n",
       "      <td>363.266516</td>\n",
       "      <td>18.436524</td>\n",
       "      <td>100.341674</td>\n",
       "      <td>4.628771</td>\n",
       "    </tr>\n",
       "    <tr>\n",
       "      <th>4</th>\n",
       "      <td>9.092223</td>\n",
       "      <td>181.101509</td>\n",
       "      <td>17978.986339</td>\n",
       "      <td>6.546600</td>\n",
       "      <td>310.135738</td>\n",
       "      <td>398.410813</td>\n",
       "      <td>11.558279</td>\n",
       "      <td>31.997993</td>\n",
       "      <td>4.075075</td>\n",
       "    </tr>\n",
       "  </tbody>\n",
       "</table>\n",
       "</div>"
      ],
      "text/plain": [
       "         ph    Hardness        Solids  Chloramines     Sulfate  Conductivity  \\\n",
       "0  7.036752  204.890455  20791.318981     7.300212  368.516441    564.308654   \n",
       "1  3.716080  129.422921  18630.057858     6.635246  333.073546    592.885359   \n",
       "2  8.099124  224.236259  19909.541732     9.275884  333.073546    418.606213   \n",
       "3  8.316766  214.373394  22018.417441     8.059332  356.886136    363.266516   \n",
       "4  9.092223  181.101509  17978.986339     6.546600  310.135738    398.410813   \n",
       "\n",
       "   Organic_carbon  Trihalomethanes  Turbidity  \n",
       "0       10.379783        86.990970   2.963135  \n",
       "1       15.180013        56.329076   4.500656  \n",
       "2       16.868637        66.420093   3.055934  \n",
       "3       18.436524       100.341674   4.628771  \n",
       "4       11.558279        31.997993   4.075075  "
      ]
     },
     "execution_count": 18,
     "metadata": {},
     "output_type": "execute_result"
    }
   ],
   "source": [
    "X.head()"
   ]
  },
  {
   "cell_type": "code",
   "execution_count": 19,
   "id": "b3a0c244",
   "metadata": {},
   "outputs": [
    {
     "data": {
      "text/plain": [
       "0    0\n",
       "1    0\n",
       "2    0\n",
       "3    0\n",
       "4    0\n",
       "Name: Potability, dtype: int64"
      ]
     },
     "execution_count": 19,
     "metadata": {},
     "output_type": "execute_result"
    }
   ],
   "source": [
    "y.head()"
   ]
  },
  {
   "cell_type": "code",
   "execution_count": 20,
   "id": "3c28e0ab",
   "metadata": {},
   "outputs": [
    {
     "name": "stdout",
     "output_type": "stream",
     "text": [
      "Counter({0: 1998, 1: 1278})\n"
     ]
    }
   ],
   "source": [
    "counter = Counter(y)\n",
    "print(counter)"
   ]
  },
  {
   "cell_type": "code",
   "execution_count": 21,
   "id": "1c3b638f",
   "metadata": {},
   "outputs": [
    {
     "name": "stdout",
     "output_type": "stream",
     "text": [
      "Counter({0: 1998, 1: 1998})\n"
     ]
    }
   ],
   "source": [
    "oversample = SMOTE()\n",
    "X, y = oversample.fit_resample(X,y)\n",
    "counter_oversample = Counter(y)\n",
    "print(counter_oversample)"
   ]
  },
  {
   "cell_type": "markdown",
   "id": "20562ba3",
   "metadata": {},
   "source": [
    "From the above code, we can see that the class distribution is balanced."
   ]
  },
  {
   "cell_type": "code",
   "execution_count": 22,
   "id": "56b308a6",
   "metadata": {},
   "outputs": [],
   "source": [
    "#split the dataset into training and test data\n",
    "X_train, X_test, y_train, y_test = train_test_split(X,y, test_size=0.2, random_state=42, stratify=y)"
   ]
  },
  {
   "cell_type": "code",
   "execution_count": 23,
   "id": "bcd944f0",
   "metadata": {},
   "outputs": [
    {
     "data": {
      "text/plain": [
       "array([[-1.65241996, -0.32007982,  1.27050442,  1.10030307,  1.02547294,\n",
       "        -1.63714874,  0.16304319, -1.14766182, -0.36318774],\n",
       "       [-0.02321714,  0.17425506, -0.69457426, -1.09619665,  0.20811576,\n",
       "        -0.91266889,  0.22345789, -0.38791254, -1.78509704],\n",
       "       [-0.03296467, -0.45111241, -0.52169434, -0.2039398 , -0.0137082 ,\n",
       "         0.86255108, -0.84696111,  1.28310344, -0.53641627],\n",
       "       [ 0.05799587,  0.23584119, -1.1877131 , -1.55850418,  0.48875083,\n",
       "        -0.32751276, -1.00360907,  0.97951009,  0.40303495],\n",
       "       [-0.87813489, -0.06086355, -0.48767972, -0.95722113,  2.15140168,\n",
       "         2.4671314 ,  1.05385026,  1.75132583,  0.3490607 ],\n",
       "       [-1.44045372, -0.5258823 ,  0.06325557,  1.92472337, -1.04039727,\n",
       "         0.29327099, -0.01494634,  1.03635533, -0.84915437],\n",
       "       [-0.03296467, -1.27501636,  3.42455268, -2.93394666,  0.88296595,\n",
       "        -1.30934798, -0.03035491, -1.16046559, -2.60992487],\n",
       "       [-0.03296467, -1.13722585,  0.51943599,  0.03523445, -0.32139452,\n",
       "        -0.6846089 , -0.87926195, -0.58243609,  1.53860514],\n",
       "       [-0.86491391,  2.84998419, -2.0919839 , -1.97089884,  1.62861365,\n",
       "         0.25331294, -2.47351606, -1.10192728, -0.72368417],\n",
       "       [-0.03296467,  0.21628919, -0.06662821, -0.68259442, -0.39332967,\n",
       "        -0.98797622, -0.51678008,  0.16419053,  0.84648159]])"
      ]
     },
     "execution_count": 23,
     "metadata": {},
     "output_type": "execute_result"
    }
   ],
   "source": [
    "sc = StandardScaler()\n",
    "X_train = sc.fit_transform(X_train)\n",
    "X_test = sc.fit_transform(X_test)\n",
    "X_train[:10]"
   ]
  },
  {
   "cell_type": "markdown",
   "id": "6cf2d503",
   "metadata": {},
   "source": [
    "### Model Building"
   ]
  },
  {
   "cell_type": "code",
   "execution_count": 24,
   "id": "40b852e2",
   "metadata": {},
   "outputs": [],
   "source": [
    "model = Sequential()\n",
    "model.add(Dense(units=9, activation='relu'))\n",
    "model.add(Dense(units=9, activation='relu'))\n",
    "model.add(Dense(units=1, activation='sigmoid'))"
   ]
  },
  {
   "cell_type": "code",
   "execution_count": 25,
   "id": "575ec791",
   "metadata": {},
   "outputs": [],
   "source": [
    "model.compile(optimizer='adam',\n",
    "             loss='binary_crossentropy',\n",
    "             metrics=['accuracy'])"
   ]
  },
  {
   "cell_type": "code",
   "execution_count": 27,
   "id": "11d2e3a8",
   "metadata": {},
   "outputs": [
    {
     "name": "stdout",
     "output_type": "stream",
     "text": [
      "Epoch 1/120\n",
      "100/100 [==============================] - 0s 3ms/step - loss: 0.5818 - accuracy: 0.6896\n",
      "Epoch 2/120\n",
      "100/100 [==============================] - 0s 3ms/step - loss: 0.5819 - accuracy: 0.6821\n",
      "Epoch 3/120\n",
      "100/100 [==============================] - 0s 3ms/step - loss: 0.5818 - accuracy: 0.6855\n",
      "Epoch 4/120\n",
      "100/100 [==============================] - 0s 3ms/step - loss: 0.5811 - accuracy: 0.6824\n",
      "Epoch 5/120\n",
      "100/100 [==============================] - 0s 3ms/step - loss: 0.5808 - accuracy: 0.6834\n",
      "Epoch 6/120\n",
      "100/100 [==============================] - 0s 3ms/step - loss: 0.5805 - accuracy: 0.6834\n",
      "Epoch 7/120\n",
      "100/100 [==============================] - 0s 3ms/step - loss: 0.5807 - accuracy: 0.6837\n",
      "Epoch 8/120\n",
      "100/100 [==============================] - 0s 3ms/step - loss: 0.5804 - accuracy: 0.6852\n",
      "Epoch 9/120\n",
      "100/100 [==============================] - 0s 3ms/step - loss: 0.5808 - accuracy: 0.6837\n",
      "Epoch 10/120\n",
      "100/100 [==============================] - 0s 3ms/step - loss: 0.5805 - accuracy: 0.6865\n",
      "Epoch 11/120\n",
      "100/100 [==============================] - 0s 3ms/step - loss: 0.5802 - accuracy: 0.6862\n",
      "Epoch 12/120\n",
      "100/100 [==============================] - 0s 3ms/step - loss: 0.5806 - accuracy: 0.6837\n",
      "Epoch 13/120\n",
      "100/100 [==============================] - 0s 3ms/step - loss: 0.5801 - accuracy: 0.6852\n",
      "Epoch 14/120\n",
      "100/100 [==============================] - 0s 3ms/step - loss: 0.5804 - accuracy: 0.6812\n",
      "Epoch 15/120\n",
      "100/100 [==============================] - 0s 3ms/step - loss: 0.5803 - accuracy: 0.6840\n",
      "Epoch 16/120\n",
      "100/100 [==============================] - 0s 3ms/step - loss: 0.5799 - accuracy: 0.6824\n",
      "Epoch 17/120\n",
      "100/100 [==============================] - 0s 3ms/step - loss: 0.5797 - accuracy: 0.6805\n",
      "Epoch 18/120\n",
      "100/100 [==============================] - 0s 3ms/step - loss: 0.5795 - accuracy: 0.6837\n",
      "Epoch 19/120\n",
      "100/100 [==============================] - 0s 3ms/step - loss: 0.5794 - accuracy: 0.6812\n",
      "Epoch 20/120\n",
      "100/100 [==============================] - 0s 3ms/step - loss: 0.5791 - accuracy: 0.6859\n",
      "Epoch 21/120\n",
      "100/100 [==============================] - 0s 3ms/step - loss: 0.5786 - accuracy: 0.6852\n",
      "Epoch 22/120\n",
      "100/100 [==============================] - 0s 3ms/step - loss: 0.5786 - accuracy: 0.6821\n",
      "Epoch 23/120\n",
      "100/100 [==============================] - 0s 3ms/step - loss: 0.5793 - accuracy: 0.6843\n",
      "Epoch 24/120\n",
      "100/100 [==============================] - 0s 3ms/step - loss: 0.5787 - accuracy: 0.6880\n",
      "Epoch 25/120\n",
      "100/100 [==============================] - 0s 3ms/step - loss: 0.5792 - accuracy: 0.6809\n",
      "Epoch 26/120\n",
      "100/100 [==============================] - 0s 2ms/step - loss: 0.5785 - accuracy: 0.6849\n",
      "Epoch 27/120\n",
      "100/100 [==============================] - 0s 2ms/step - loss: 0.5790 - accuracy: 0.6871\n",
      "Epoch 28/120\n",
      "100/100 [==============================] - 0s 3ms/step - loss: 0.5782 - accuracy: 0.6855\n",
      "Epoch 29/120\n",
      "100/100 [==============================] - 0s 3ms/step - loss: 0.5782 - accuracy: 0.6855\n",
      "Epoch 30/120\n",
      "100/100 [==============================] - 0s 3ms/step - loss: 0.5780 - accuracy: 0.6859\n",
      "Epoch 31/120\n",
      "100/100 [==============================] - 0s 3ms/step - loss: 0.5777 - accuracy: 0.6887\n",
      "Epoch 32/120\n",
      "100/100 [==============================] - 0s 3ms/step - loss: 0.5780 - accuracy: 0.6896\n",
      "Epoch 33/120\n",
      "100/100 [==============================] - 0s 2ms/step - loss: 0.5777 - accuracy: 0.6868\n",
      "Epoch 34/120\n",
      "100/100 [==============================] - 0s 3ms/step - loss: 0.5783 - accuracy: 0.6868\n",
      "Epoch 35/120\n",
      "100/100 [==============================] - 0s 3ms/step - loss: 0.5776 - accuracy: 0.6871\n",
      "Epoch 36/120\n",
      "100/100 [==============================] - 0s 3ms/step - loss: 0.5776 - accuracy: 0.6859\n",
      "Epoch 37/120\n",
      "100/100 [==============================] - 0s 3ms/step - loss: 0.5778 - accuracy: 0.6887\n",
      "Epoch 38/120\n",
      "100/100 [==============================] - 0s 3ms/step - loss: 0.5775 - accuracy: 0.6865\n",
      "Epoch 39/120\n",
      "100/100 [==============================] - 0s 3ms/step - loss: 0.5775 - accuracy: 0.6868\n",
      "Epoch 40/120\n",
      "100/100 [==============================] - 0s 3ms/step - loss: 0.5773 - accuracy: 0.6843\n",
      "Epoch 41/120\n",
      "100/100 [==============================] - 0s 3ms/step - loss: 0.5773 - accuracy: 0.6852\n",
      "Epoch 42/120\n",
      "100/100 [==============================] - 0s 3ms/step - loss: 0.5768 - accuracy: 0.6862\n",
      "Epoch 43/120\n",
      "100/100 [==============================] - 0s 3ms/step - loss: 0.5773 - accuracy: 0.6896\n",
      "Epoch 44/120\n",
      "100/100 [==============================] - 0s 3ms/step - loss: 0.5764 - accuracy: 0.6924\n",
      "Epoch 45/120\n",
      "100/100 [==============================] - 0s 3ms/step - loss: 0.5765 - accuracy: 0.6865\n",
      "Epoch 46/120\n",
      "100/100 [==============================] - 0s 3ms/step - loss: 0.5767 - accuracy: 0.6909\n",
      "Epoch 47/120\n",
      "100/100 [==============================] - 0s 4ms/step - loss: 0.5764 - accuracy: 0.6868\n",
      "Epoch 48/120\n",
      "100/100 [==============================] - 0s 3ms/step - loss: 0.5766 - accuracy: 0.6896\n",
      "Epoch 49/120\n",
      "100/100 [==============================] - 0s 3ms/step - loss: 0.5765 - accuracy: 0.6884\n",
      "Epoch 50/120\n",
      "100/100 [==============================] - 0s 3ms/step - loss: 0.5766 - accuracy: 0.6893\n",
      "Epoch 51/120\n",
      "100/100 [==============================] - 0s 3ms/step - loss: 0.5759 - accuracy: 0.6859\n",
      "Epoch 52/120\n",
      "100/100 [==============================] - 0s 3ms/step - loss: 0.5761 - accuracy: 0.6918\n",
      "Epoch 53/120\n",
      "100/100 [==============================] - 0s 3ms/step - loss: 0.5753 - accuracy: 0.6887\n",
      "Epoch 54/120\n",
      "100/100 [==============================] - 0s 2ms/step - loss: 0.5752 - accuracy: 0.6874\n",
      "Epoch 55/120\n",
      "100/100 [==============================] - 0s 3ms/step - loss: 0.5759 - accuracy: 0.6859\n",
      "Epoch 56/120\n",
      "100/100 [==============================] - 0s 3ms/step - loss: 0.5755 - accuracy: 0.6834\n",
      "Epoch 57/120\n",
      "100/100 [==============================] - 0s 3ms/step - loss: 0.5750 - accuracy: 0.6880\n",
      "Epoch 58/120\n",
      "100/100 [==============================] - 0s 3ms/step - loss: 0.5752 - accuracy: 0.6912\n",
      "Epoch 59/120\n",
      "100/100 [==============================] - 0s 3ms/step - loss: 0.5759 - accuracy: 0.6837\n",
      "Epoch 60/120\n",
      "100/100 [==============================] - 0s 3ms/step - loss: 0.5751 - accuracy: 0.6890\n",
      "Epoch 61/120\n",
      "100/100 [==============================] - 0s 3ms/step - loss: 0.5747 - accuracy: 0.6874\n",
      "Epoch 62/120\n",
      "100/100 [==============================] - 0s 3ms/step - loss: 0.5754 - accuracy: 0.6874\n",
      "Epoch 63/120\n",
      "100/100 [==============================] - 0s 3ms/step - loss: 0.5744 - accuracy: 0.6899\n",
      "Epoch 64/120\n",
      "100/100 [==============================] - 0s 3ms/step - loss: 0.5743 - accuracy: 0.6884\n",
      "Epoch 65/120\n",
      "100/100 [==============================] - 0s 3ms/step - loss: 0.5746 - accuracy: 0.6909\n",
      "Epoch 66/120\n",
      "100/100 [==============================] - 0s 3ms/step - loss: 0.5743 - accuracy: 0.6874\n",
      "Epoch 67/120\n",
      "100/100 [==============================] - 0s 3ms/step - loss: 0.5745 - accuracy: 0.6890\n",
      "Epoch 68/120\n",
      "100/100 [==============================] - 0s 3ms/step - loss: 0.5741 - accuracy: 0.6862\n",
      "Epoch 69/120\n",
      "100/100 [==============================] - 0s 3ms/step - loss: 0.5741 - accuracy: 0.6884\n",
      "Epoch 70/120\n",
      "100/100 [==============================] - 0s 3ms/step - loss: 0.5744 - accuracy: 0.6887\n",
      "Epoch 71/120\n",
      "100/100 [==============================] - 0s 3ms/step - loss: 0.5738 - accuracy: 0.6862\n",
      "Epoch 72/120\n",
      "100/100 [==============================] - 0s 4ms/step - loss: 0.5739 - accuracy: 0.6862\n",
      "Epoch 73/120\n",
      "100/100 [==============================] - 0s 4ms/step - loss: 0.5740 - accuracy: 0.6893\n",
      "Epoch 74/120\n",
      "100/100 [==============================] - 0s 3ms/step - loss: 0.5737 - accuracy: 0.6912\n",
      "Epoch 75/120\n",
      "100/100 [==============================] - 0s 3ms/step - loss: 0.5733 - accuracy: 0.6887\n",
      "Epoch 76/120\n",
      "100/100 [==============================] - 0s 3ms/step - loss: 0.5738 - accuracy: 0.6915\n",
      "Epoch 77/120\n",
      "100/100 [==============================] - 0s 3ms/step - loss: 0.5736 - accuracy: 0.6877\n",
      "Epoch 78/120\n",
      "100/100 [==============================] - 0s 3ms/step - loss: 0.5736 - accuracy: 0.6877\n",
      "Epoch 79/120\n",
      "100/100 [==============================] - 0s 4ms/step - loss: 0.5733 - accuracy: 0.6884\n",
      "Epoch 80/120\n",
      "100/100 [==============================] - 0s 4ms/step - loss: 0.5735 - accuracy: 0.6902\n",
      "Epoch 81/120\n"
     ]
    },
    {
     "name": "stdout",
     "output_type": "stream",
     "text": [
      "100/100 [==============================] - 0s 3ms/step - loss: 0.5729 - accuracy: 0.6868\n",
      "Epoch 82/120\n",
      "100/100 [==============================] - 0s 3ms/step - loss: 0.5733 - accuracy: 0.6880\n",
      "Epoch 83/120\n",
      "100/100 [==============================] - 0s 3ms/step - loss: 0.5735 - accuracy: 0.6909\n",
      "Epoch 84/120\n",
      "100/100 [==============================] - 0s 3ms/step - loss: 0.5738 - accuracy: 0.6865\n",
      "Epoch 85/120\n",
      "100/100 [==============================] - 0s 3ms/step - loss: 0.5728 - accuracy: 0.6884\n",
      "Epoch 86/120\n",
      "100/100 [==============================] - 0s 3ms/step - loss: 0.5726 - accuracy: 0.6931\n",
      "Epoch 87/120\n",
      "100/100 [==============================] - 0s 3ms/step - loss: 0.5730 - accuracy: 0.6877\n",
      "Epoch 88/120\n",
      "100/100 [==============================] - 0s 3ms/step - loss: 0.5729 - accuracy: 0.6902\n",
      "Epoch 89/120\n",
      "100/100 [==============================] - 0s 3ms/step - loss: 0.5730 - accuracy: 0.6868\n",
      "Epoch 90/120\n",
      "100/100 [==============================] - 0s 3ms/step - loss: 0.5728 - accuracy: 0.6890\n",
      "Epoch 91/120\n",
      "100/100 [==============================] - 0s 3ms/step - loss: 0.5727 - accuracy: 0.6902\n",
      "Epoch 92/120\n",
      "100/100 [==============================] - 0s 3ms/step - loss: 0.5731 - accuracy: 0.6927\n",
      "Epoch 93/120\n",
      "100/100 [==============================] - 0s 3ms/step - loss: 0.5730 - accuracy: 0.6877\n",
      "Epoch 94/120\n",
      "100/100 [==============================] - 0s 3ms/step - loss: 0.5716 - accuracy: 0.6909\n",
      "Epoch 95/120\n",
      "100/100 [==============================] - 0s 3ms/step - loss: 0.5726 - accuracy: 0.6896\n",
      "Epoch 96/120\n",
      "100/100 [==============================] - 0s 3ms/step - loss: 0.5725 - accuracy: 0.6921\n",
      "Epoch 97/120\n",
      "100/100 [==============================] - 0s 3ms/step - loss: 0.5725 - accuracy: 0.6902\n",
      "Epoch 98/120\n",
      "100/100 [==============================] - 0s 3ms/step - loss: 0.5721 - accuracy: 0.6906\n",
      "Epoch 99/120\n",
      "100/100 [==============================] - 0s 3ms/step - loss: 0.5716 - accuracy: 0.6906\n",
      "Epoch 100/120\n",
      "100/100 [==============================] - 0s 3ms/step - loss: 0.5714 - accuracy: 0.6915\n",
      "Epoch 101/120\n",
      "100/100 [==============================] - 0s 3ms/step - loss: 0.5718 - accuracy: 0.6924\n",
      "Epoch 102/120\n",
      "100/100 [==============================] - 0s 3ms/step - loss: 0.5717 - accuracy: 0.6918\n",
      "Epoch 103/120\n",
      "100/100 [==============================] - 0s 3ms/step - loss: 0.5713 - accuracy: 0.6940\n",
      "Epoch 104/120\n",
      "100/100 [==============================] - 0s 2ms/step - loss: 0.5716 - accuracy: 0.6912\n",
      "Epoch 105/120\n",
      "100/100 [==============================] - 0s 3ms/step - loss: 0.5716 - accuracy: 0.6918\n",
      "Epoch 106/120\n",
      "100/100 [==============================] - 0s 3ms/step - loss: 0.5719 - accuracy: 0.6937\n",
      "Epoch 107/120\n",
      "100/100 [==============================] - 0s 3ms/step - loss: 0.5713 - accuracy: 0.6906\n",
      "Epoch 108/120\n",
      "100/100 [==============================] - 0s 3ms/step - loss: 0.5709 - accuracy: 0.6912\n",
      "Epoch 109/120\n",
      "100/100 [==============================] - 0s 3ms/step - loss: 0.5716 - accuracy: 0.6956\n",
      "Epoch 110/120\n",
      "100/100 [==============================] - 0s 3ms/step - loss: 0.5708 - accuracy: 0.6912\n",
      "Epoch 111/120\n",
      "100/100 [==============================] - 0s 3ms/step - loss: 0.5714 - accuracy: 0.6943\n",
      "Epoch 112/120\n",
      "100/100 [==============================] - 0s 3ms/step - loss: 0.5711 - accuracy: 0.6946\n",
      "Epoch 113/120\n",
      "100/100 [==============================] - 0s 3ms/step - loss: 0.5708 - accuracy: 0.6921\n",
      "Epoch 114/120\n",
      "100/100 [==============================] - 0s 3ms/step - loss: 0.5704 - accuracy: 0.6915\n",
      "Epoch 115/120\n",
      "100/100 [==============================] - 0s 3ms/step - loss: 0.5708 - accuracy: 0.6934\n",
      "Epoch 116/120\n",
      "100/100 [==============================] - 0s 3ms/step - loss: 0.5711 - accuracy: 0.6924\n",
      "Epoch 117/120\n",
      "100/100 [==============================] - 1s 5ms/step - loss: 0.5711 - accuracy: 0.6956\n",
      "Epoch 118/120\n",
      "100/100 [==============================] - 0s 3ms/step - loss: 0.5703 - accuracy: 0.6956\n",
      "Epoch 119/120\n",
      "100/100 [==============================] - 0s 3ms/step - loss: 0.5712 - accuracy: 0.6924\n",
      "Epoch 120/120\n",
      "100/100 [==============================] - 0s 3ms/step - loss: 0.5707 - accuracy: 0.6902\n"
     ]
    },
    {
     "data": {
      "text/plain": [
       "<keras.callbacks.History at 0x27ee63c75e0>"
      ]
     },
     "execution_count": 27,
     "metadata": {},
     "output_type": "execute_result"
    }
   ],
   "source": [
    "history = model.fit(X_train, y_train, batch_size=32, epochs=120)\n",
    "history"
   ]
  },
  {
   "cell_type": "markdown",
   "id": "6bf87b7e",
   "metadata": {},
   "source": [
    "### Evaluation and Results"
   ]
  },
  {
   "cell_type": "code",
   "execution_count": 28,
   "id": "e82cfb22",
   "metadata": {},
   "outputs": [
    {
     "name": "stdout",
     "output_type": "stream",
     "text": [
      "25/25 [==============================] - 0s 2ms/step\n"
     ]
    }
   ],
   "source": [
    "from sklearn.metrics import roc_curve\n",
    "y_pred_keras = model.predict(X_test).ravel()\n",
    "fpr_keras, tpr_keras, thresholds_keras = roc_curve(y_test, y_pred_keras)"
   ]
  },
  {
   "cell_type": "code",
   "execution_count": 29,
   "id": "1e6f5fc6",
   "metadata": {},
   "outputs": [],
   "source": [
    "from sklearn.metrics import auc\n",
    "auc_keras = auc(fpr_keras, tpr_keras)"
   ]
  },
  {
   "cell_type": "code",
   "execution_count": 48,
   "id": "0d6c93ff",
   "metadata": {},
   "outputs": [
    {
     "data": {
      "image/png": "[encoded data removed]",
      "text/plain": [
       "<Figure size 432x288 with 1 Axes>"
      ]
     },
     "metadata": {
      "needs_background": "light"
     },
     "output_type": "display_data"
    },
    {
     "data": {
      "text/plain": [
       "<Figure size 432x288 with 0 Axes>"
      ]
     },
     "metadata": {},
     "output_type": "display_data"
    }
   ],
   "source": [
    "plt.figure(1)\n",
    "plt.plot([0, 1], [0, 1], 'k--')\n",
    "plt.plot(fpr_keras, tpr_keras, label='Keras (area = {:.3f})'.format(auc_keras))\n",
    "plt.xlabel('False positive rate')\n",
    "plt.ylabel('True positive rate')\n",
    "plt.title('ROC curve')\n",
    "plt.legend(loc='best')\n",
    "plt.show()\n",
    "plt.savefig(\"roc.png\", bbox_inches=\"tight\", format=\"png\")"
   ]
  },
  {
   "cell_type": "code",
   "execution_count": 49,
   "id": "f55c96ad",
   "metadata": {},
   "outputs": [
    {
     "data": {
      "image/png": "[encoded data removed]",
      "text/plain": [
       "<Figure size 432x288 with 2 Axes>"
      ]
     },
     "metadata": {
      "needs_background": "light"
     },
     "output_type": "display_data"
    }
   ],
   "source": [
    "y_pred = model.predict(X_test)\n",
    "y_pred = y_pred > 0.5\n",
    "cm = confusion_matrix(y_test, y_pred)\n",
    "p = sns.heatmap(pd.DataFrame(cm), annot=True, cmap=\"YlGnBu\" ,fmt='g')\n",
    "plt.title('Confusion matrix', y=1.1)\n",
    "plt.ylabel('Actual label')\n",
    "plt.xlabel('Predicted label')\n",
    "plt.savefig(\"conmat.png\", bbox_inches=\"tight\", format=\"png\")"
   ]
  },
  {
   "cell_type": "code",
   "execution_count": 35,
   "id": "25af3aee",
   "metadata": {},
   "outputs": [],
   "source": [
    "loss = history.history[\"loss\"]\n",
    "acc = history.history[\"accuracy\"]"
   ]
  },
  {
   "cell_type": "code",
   "execution_count": 36,
   "id": "8d93acb6",
   "metadata": {},
   "outputs": [
    {
     "data": {
      "image/png": "[encoded data removed]",
      "text/plain": [
       "<Figure size 720x576 with 1 Axes>"
      ]
     },
     "metadata": {
      "needs_background": "light"
     },
     "output_type": "display_data"
    }
   ],
   "source": [
    "plt.figure(figsize=(10,8))\n",
    "plt.plot(loss, \"r--\", label=\"Loss\")\n",
    "plt.plot(acc, \"g--\", label=\"Accuracy\")\n",
    "plt.title(\"loss accuracy plot\".upper(), size=20, weight=\"bold\")\n",
    "plt.xlabel(\"Epoch\")\n",
    "plt.legend();\n",
    "plt.savefig(\"loss accuracy plot.png\", bbox_inches=\"tight\", format=\"png\")"
   ]
  },
  {
   "cell_type": "code",
   "execution_count": 37,
   "id": "64f89e2f",
   "metadata": {},
   "outputs": [],
   "source": [
    "RFC = RandomForestClassifier()\n",
    "RFC.fit(X_train, y_train)\n",
    "accuracy = RFC.score(X_test, y_test)"
   ]
  },
  {
   "cell_type": "code",
   "execution_count": 38,
   "id": "617146e6",
   "metadata": {},
   "outputs": [],
   "source": [
    "models = {'ANN': history.history['accuracy'][-1],\n",
    "         'RFC' : accuracy}"
   ]
  },
  {
   "cell_type": "code",
   "execution_count": 39,
   "id": "82258dbb",
   "metadata": {},
   "outputs": [
    {
     "data": {
      "text/plain": [
       "{'ANN': 0.690237820148468, 'RFC': 0.67625}"
      ]
     },
     "execution_count": 39,
     "metadata": {},
     "output_type": "execute_result"
    }
   ],
   "source": [
    "models"
   ]
  },
  {
   "cell_type": "code",
   "execution_count": 40,
   "id": "e1bc60af",
   "metadata": {},
   "outputs": [],
   "source": [
    "table = pd.DataFrame(models,\n",
    "            index=['Accuracy_score'])"
   ]
  },
  {
   "cell_type": "code",
   "execution_count": 41,
   "id": "e61f8c93",
   "metadata": {},
   "outputs": [
    {
     "data": {
      "text/html": [
       "<div>\n",
       "<style scoped>\n",
       "    .dataframe tbody tr th:only-of-type {\n",
       "        vertical-align: middle;\n",
       "    }\n",
       "\n",
       "    .dataframe tbody tr th {\n",
       "        vertical-align: top;\n",
       "    }\n",
       "\n",
       "    .dataframe thead th {\n",
       "        text-align: right;\n",
       "    }\n",
       "</style>\n",
       "<table border=\"1\" class=\"dataframe\">\n",
       "  <thead>\n",
       "    <tr style=\"text-align: right;\">\n",
       "      <th></th>\n",
       "      <th>ANN</th>\n",
       "      <th>RFC</th>\n",
       "    </tr>\n",
       "  </thead>\n",
       "  <tbody>\n",
       "    <tr>\n",
       "      <th>Accuracy_score</th>\n",
       "      <td>0.690238</td>\n",
       "      <td>0.67625</td>\n",
       "    </tr>\n",
       "  </tbody>\n",
       "</table>\n",
       "</div>"
      ],
      "text/plain": [
       "                     ANN      RFC\n",
       "Accuracy_score  0.690238  0.67625"
      ]
     },
     "execution_count": 41,
     "metadata": {},
     "output_type": "execute_result"
    }
   ],
   "source": [
    "table"
   ]
  },
  {
   "cell_type": "code",
   "execution_count": 42,
   "id": "426c1f55",
   "metadata": {},
   "outputs": [
    {
     "data": {
      "image/png": "[encoded data removed]",
      "text/plain": [
       "<Figure size 576x432 with 1 Axes>"
      ]
     },
     "metadata": {
      "needs_background": "light"
     },
     "output_type": "display_data"
    },
    {
     "data": {
      "text/plain": [
       "<Figure size 432x288 with 0 Axes>"
      ]
     },
     "metadata": {},
     "output_type": "display_data"
    }
   ],
   "source": [
    "table.T.plot(kind='bar', figsize=(8,6))\n",
    "plt.xticks(rotation=0)\n",
    "plt.show()\n",
    "plt.savefig(\"Accuracy scores of the models\", bbox_inches=\"tight\", format=\"png\")"
   ]
  },
  {
   "cell_type": "markdown",
   "id": "c7c2b48a",
   "metadata": {},
   "source": [
    "### Saving model for deployment"
   ]
  },
  {
   "cell_type": "code",
   "execution_count": 43,
   "id": "2ec62404",
   "metadata": {},
   "outputs": [
    {
     "name": "stdout",
     "output_type": "stream",
     "text": [
      "INFO:tensorflow:Assets written to: ram://49738bfd-a0c1-431c-8aab-1974347c7f3e/assets\n"
     ]
    }
   ],
   "source": [
    "import pickle\n",
    "with open('ANN_model.pkl', 'wb') as f:\n",
    "    model = pickle.dump(model, f)"
   ]
  },
  {
   "cell_type": "code",
   "execution_count": 44,
   "id": "a9c99b60",
   "metadata": {},
   "outputs": [],
   "source": [
    "with open('water_model.pkl', 'wb') as f:\n",
    "    model = pickle.dump(RFC, f)"
   ]
  },
  {
   "cell_type": "code",
   "execution_count": 45,
   "id": "926782b6",
   "metadata": {},
   "outputs": [
    {
     "name": "stdout",
     "output_type": "stream",
     "text": [
      "RandomForestClassifier()\n"
     ]
    }
   ],
   "source": [
    "with open('water_model.pkl', 'rb') as f:\n",
    "    model = pickle.load(f)\n",
    "print(model)"
   ]
  },
  {
   "cell_type": "markdown",
   "id": "7e2ec7e4",
   "metadata": {},
   "source": [
    "Prediction"
   ]
  },
  {
   "cell_type": "code",
   "execution_count": 46,
   "id": "f13ef641",
   "metadata": {},
   "outputs": [
    {
     "data": {
      "text/plain": [
       "array([0], dtype=int64)"
      ]
     },
     "execution_count": 46,
     "metadata": {},
     "output_type": "execute_result"
    }
   ],
   "source": [
    "model.predict([[8.232,130.1232,2079.67893, 1887.90,7.123, 355.8979, 558.322, 10.342, 88.7829]])"
   ]
  },
  {
   "cell_type": "markdown",
   "id": "c418e719",
   "metadata": {},
   "source": [
    "From the above code, when we entered the following values for each feature variables. We can see that these values are unseen data and our model predicted that the water is potable or suitable for consumption."
   ]
  },
  {
   "cell_type": "markdown",
   "id": "5d2f4943",
   "metadata": {},
   "source": [
    "### Conclusion"
   ]
  },
  {
   "cell_type": "markdown",
   "id": "3f28817e",
   "metadata": {},
   "source": [
    "The investigation of methods for identifying drinking water has a high relevance in the actuality beacuse the WHO has said that in 2025, half of the world population are going to live in lack of water.\n",
    "\n",
    "The comparative analysis of ANN and Random Forest classifier developed in this notebook, doesn't have the best performance,I got less tha 70% in AUC in the ROC Curve, this because some factors: the small dataset, the quality and amount of explanatory variables we have, the diference between the number of rows that represent potable and non-potable water. However, the behavior of the loss function is really good. In this notebook we used a 0.5 treshold for the clasification, but in the real life we need to consult an expert for better results, this can save or damage people."
   ]
  },
  {
   "cell_type": "code",
   "execution_count": null,
   "id": "42485667",
   "metadata": {},
   "outputs": [],
   "source": []
  }
 ],
 "metadata": {
  "kernelspec": {
   "display_name": "Python 3 (ipykernel)",
   "language": "python",
   "name": "python3"
  },
  "language_info": {
   "codemirror_mode": {
    "name": "ipython",
    "version": 3
   },
   "file_extension": ".py",
   "mimetype": "text/x-python",
   "name": "python",
   "nbconvert_exporter": "python",
   "pygments_lexer": "ipython3",
   "version": "3.9.12"
  }
 },
 "nbformat": 4,
 "nbformat_minor": 5
}
